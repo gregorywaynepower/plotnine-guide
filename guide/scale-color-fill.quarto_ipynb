{
  "cells": [
    {
      "cell_type": "markdown",
      "metadata": {},
      "source": [
        "---\n",
        "title: Scale color and fill\n",
        "jupyter: python3\n",
        "---"
      ],
      "id": "ca3ea6e5"
    },
    {
      "cell_type": "code",
      "metadata": {},
      "source": [
        "from plotnine.data import penguins\n",
        "from plotnine import *\n",
        "\n",
        "p = (\n",
        "    ggplot(penguins, aes(\"bill_length_mm\", \"bill_depth_mm\", color=\"species\"))\n",
        "    + geom_point()\n",
        ")"
      ],
      "id": "d56a65d4",
      "execution_count": null,
      "outputs": []
    },
    {
      "cell_type": "markdown",
      "metadata": {},
      "source": [
        "## Choosing between color and fill\n",
        "\n",
        "## Specifying a continuous palette\n",
        "\n",
        "\n",
        "## Specifying a discrete palette\n"
      ],
      "id": "2791a6a0"
    },
    {
      "cell_type": "code",
      "metadata": {},
      "source": [
        "p + scale_color_brewer(\"qualitative\", palette=\"Dark2\")"
      ],
      "id": "5681622b",
      "execution_count": null,
      "outputs": []
    },
    {
      "cell_type": "markdown",
      "metadata": {},
      "source": [
        "* qualitative\n",
        "* sequential\n",
        "* diverging\n",
        "\n",
        "(short codes)\n"
      ],
      "id": "9270cca8"
    },
    {
      "cell_type": "code",
      "metadata": {},
      "source": [
        "# p + scale_color_hue(=280 / 360, 1, .5)"
      ],
      "id": "6bf93219",
      "execution_count": null,
      "outputs": []
    },
    {
      "cell_type": "code",
      "metadata": {},
      "source": [
        "(\n",
        "    p\n",
        "    + scale_color_manual(\n",
        "        breaks=[\"Adelie\", \"Gentoo\", \"Chinstrap\"], values=[\"blue\", \"orange\", \"green\"]\n",
        "    )\n",
        ")"
      ],
      "id": "c8943c99",
      "execution_count": null,
      "outputs": []
    },
    {
      "cell_type": "markdown",
      "metadata": {},
      "source": [
        "## Setting alpha transparency\n",
        "\n",
        "## Ordering levels\n",
        "\n",
        "## Grouping levels"
      ],
      "id": "6862c65d"
    }
  ],
  "metadata": {
    "kernelspec": {
      "display_name": "Python 3",
      "language": "python",
      "name": "python3"
    }
  },
  "nbformat": 4,
  "nbformat_minor": 5
}