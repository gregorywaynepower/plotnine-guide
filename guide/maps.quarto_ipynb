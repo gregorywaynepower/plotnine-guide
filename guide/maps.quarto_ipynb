{
  "cells": [
    {
      "cell_type": "markdown",
      "metadata": {},
      "source": [
        "---\n",
        "title: Maps\n",
        "jupyter: python3\n",
        "---"
      ],
      "id": "321f3dc5"
    },
    {
      "cell_type": "code",
      "metadata": {},
      "source": [
        "from plotnine import *\n",
        "import geopandas as gp\n",
        "import geodatasets\n",
        "\n",
        "chicago = gp.read_file(geodatasets.get_path(\"geoda.chicago_commpop\"))\n",
        "groceries = gp.read_file(geodatasets.get_path(\"geoda.groceries\"))"
      ],
      "id": "714f16f4",
      "execution_count": null,
      "outputs": []
    },
    {
      "cell_type": "code",
      "metadata": {},
      "source": [
        "(\n",
        "    ggplot(chicago)\n",
        "    + geom_map() \n",
        "    + coord_fixed()\n",
        ")"
      ],
      "id": "ec84abd8",
      "execution_count": null,
      "outputs": []
    },
    {
      "cell_type": "code",
      "metadata": {},
      "source": [
        "(\n",
        "    ggplot(chicago, aes(fill=\"POP2010\"))\n",
        "    + geom_map() \n",
        "    + coord_fixed()\n",
        ")"
      ],
      "id": "ac8d4b73",
      "execution_count": null,
      "outputs": []
    },
    {
      "cell_type": "code",
      "metadata": {},
      "source": [
        "(\n",
        "    ggplot(chicago, aes(fill=\"POP2010\"))\n",
        "    + geom_map()\n",
        "    #+ scale_fill_cmap('plasma')\n",
        "    #+ scale_fill_gradientn([\"green\", \"purple\", \"papayawhip\"])\n",
        "    #+ scale_fill_gradient(low=\"green\", high=\"blue\")\n",
        "    #+ scale_fill_gradient2()\n",
        ")\n",
        "# scale_fill_gradient\n",
        "# scale_fill_continuous"
      ],
      "id": "5c4a3ca4",
      "execution_count": null,
      "outputs": []
    },
    {
      "cell_type": "code",
      "metadata": {},
      "source": [
        "(\n",
        "    ggplot(chicago)\n",
        "    + geom_map(fill=None)\n",
        "    #+ geom_map(fill=None)\n",
        "    + theme_void()\n",
        "    + coord_fixed()\n",
        ")"
      ],
      "id": "33d6c1cc",
      "execution_count": null,
      "outputs": []
    },
    {
      "cell_type": "markdown",
      "metadata": {},
      "source": [
        "### Missing data\n"
      ],
      "id": "c33c59c9"
    },
    {
      "cell_type": "code",
      "metadata": {},
      "source": [
        "import numpy as np\n",
        "\n",
        "chi_missing = chicago.copy()\n",
        "chi_missing.loc[np.random.choice(chicago.index, 50), 'POP2010'] = np.nan\n",
        "\n",
        "(\n",
        "    ggplot(chi_missing, aes(fill=\"POP2010\"))\n",
        "    + geom_map()\n",
        ")"
      ],
      "id": "1d9b562b",
      "execution_count": null,
      "outputs": []
    },
    {
      "cell_type": "code",
      "metadata": {},
      "source": [
        "(\n",
        "    ggplot(chi_missing, aes(fill=\"POP2010\"))\n",
        "    + geom_map(color=\"none\")\n",
        "    + theme_void()\n",
        "    + scale_fill_continuous(na_value=\"lightgrey\")\n",
        ")"
      ],
      "id": "31d4af7c",
      "execution_count": null,
      "outputs": []
    },
    {
      "cell_type": "code",
      "metadata": {},
      "source": [
        "(\n",
        "    ggplot()\n",
        "    + geom_map(data=chicago, fill=None)\n",
        "    + geom_map(data=groceries.to_crs(chicago.crs), color=\"green\")\n",
        "    + theme_void()\n",
        "    + coord_fixed()\n",
        ")"
      ],
      "id": "e2321d8a",
      "execution_count": null,
      "outputs": []
    }
  ],
  "metadata": {
    "kernelspec": {
      "display_name": "Python 3",
      "language": "python",
      "name": "python3"
    }
  },
  "nbformat": 4,
  "nbformat_minor": 5
}