{
  "cells": [
    {
      "cell_type": "markdown",
      "metadata": {},
      "source": [
        "---\n",
        "title: Facets (subplots)\n",
        "jupyter: python3\n",
        "---\n",
        "\n",
        "\n",
        "Facets split a plot into multiple subplots, based on one or more variables. `facet_wrap()` creates a sequence of subplots, while `facet_grid()` creates a matrix of subplots.\n",
        "\n",
        ":::{.callout-tip title=\"You will learn\"}\n",
        "* How to create a sequence or matrix of subplots.\n",
        "* How to use a special facetting syntax to define subplots.\n",
        "* How to configure the x- and y-axis of subplots.\n",
        ":::\n",
        "\n",
        ":::{.callout-note title=\"Key points\" collapse=\"true\"}\n",
        "* `facet_wrap()` creates a sequence of subplots.\n",
        "* The `ncol` or `nrow` arguments to `facet_wrap()` control the number of columns or rows.\n",
        "* `facet_grid()` creates a matrix of subplots based on two or more variables.\n",
        "* The `scales` argument can set a combination of the `x` and `y` axis to fixed for free.\n",
        ":::\n",
        "\n",
        "## Setup\n"
      ],
      "id": "7b005162"
    },
    {
      "cell_type": "code",
      "metadata": {},
      "source": [
        "from plotnine import *\n",
        "from plotnine.data import mpg, penguins"
      ],
      "id": "65050fa3",
      "execution_count": null,
      "outputs": []
    },
    {
      "cell_type": "markdown",
      "metadata": {},
      "source": [
        "Here is a single big plot that you might want to split into subplots.\n"
      ],
      "id": "bd97d599"
    },
    {
      "cell_type": "code",
      "metadata": {},
      "source": [
        "(\n",
        "    ggplot(mpg, aes(\"displ\", \"hwy\", color=\"class\")) + geom_point()\n",
        ")"
      ],
      "id": "33d95505",
      "execution_count": null,
      "outputs": []
    },
    {
      "cell_type": "markdown",
      "metadata": {},
      "source": [
        "## facet_wrap(): subplot sequence\n",
        "\n",
        "Use `facet_wrap()` to create a sequence of subplots. It accepts as its first argument the name of the column that should be used to split the data for subplots.\n"
      ],
      "id": "2913cafb"
    },
    {
      "cell_type": "code",
      "metadata": {},
      "source": [
        "(\n",
        "    ggplot(mpg, aes(\"displ\", \"hwy\", color=\"class\"))\n",
        "    + geom_point(show_legend=False)\n",
        "    + facet_wrap(\"class\")\n",
        ")"
      ],
      "id": "3ddc699c",
      "execution_count": null,
      "outputs": []
    },
    {
      "cell_type": "markdown",
      "metadata": {},
      "source": [
        "Note that by default `facet_wrap()` fills row-by-row, with defaults for the number of subplots per row and column. Use either the `ncol=` or `nrow=` argument to fix the number of plots per column or row, respectively.\n"
      ],
      "id": "cb1a30e0"
    },
    {
      "cell_type": "code",
      "metadata": {},
      "source": [
        "(\n",
        "    ggplot(mpg, aes(\"displ\", \"hwy\", color=\"class\"))\n",
        "    + geom_point(show_legend=False)\n",
        "    + facet_wrap(\"class\", ncol=2)\n",
        ")"
      ],
      "id": "2db37535",
      "execution_count": null,
      "outputs": []
    },
    {
      "cell_type": "markdown",
      "metadata": {},
      "source": [
        "## facet_grid(): subplot matrix\n",
        "\n",
        "Use `facet_grid()` to create a matrix of subplots. It accepts two column names as arguments, the first for the rows and the second for the columns.\n"
      ],
      "id": "ad285871"
    },
    {
      "cell_type": "code",
      "metadata": {},
      "source": [
        "(ggplot(mpg, aes(\"displ\", \"hwy\")) + geom_point() + facet_grid(\"cyl\", \"year\"))"
      ],
      "id": "0e8d3f84",
      "execution_count": null,
      "outputs": []
    },
    {
      "cell_type": "markdown",
      "metadata": {},
      "source": [
        "## facetting syntax\n",
        "\n",
        "Both `facet_wrap()` and `facet_grid()` support a special syntax for defining subplots. It takes the form `\"var1 ~ var2 + var3\"`\n"
      ],
      "id": "09b56a98"
    },
    {
      "cell_type": "code",
      "metadata": {},
      "source": [
        "(ggplot(mpg, aes(\"displ\", \"hwy\")) + geom_point() + facet_grid(\"cyl ~ year\"))"
      ],
      "id": "6c97b619",
      "execution_count": null,
      "outputs": []
    },
    {
      "cell_type": "markdown",
      "metadata": {},
      "source": [
        "Notice that `cyl` values (e.g. 4, 5, 6, 8) are on the rows, while `year` values are on the columns.\n",
        "\n",
        " The column names to the left of the tilde (`~`) define subplot rows, while those to the right define subplot columns. The plus sign (`+`) groups variables for creating subplots (TODO: is there a reasonable example that includes `+`?).\n",
        "\n",
        "\n",
        "## `scales=` for freeing axes\n",
        "\n",
        "By default, the x- and y-axes of each subplot have the same range. Use the `scales=` argument to allow each row or column to have its own range.\n"
      ],
      "id": "2bed6494"
    },
    {
      "cell_type": "code",
      "metadata": {},
      "source": [
        "(\n",
        "    ggplot(mpg, aes(\"displ\", \"hwy\"))\n",
        "    + geom_point()\n",
        "    + facet_grid(\"cyl ~ year\", scales=\"free_y\")\n",
        ")"
      ],
      "id": "d328283d",
      "execution_count": null,
      "outputs": []
    }
  ],
  "metadata": {
    "kernelspec": {
      "display_name": "Python 3",
      "language": "python",
      "name": "python3"
    }
  },
  "nbformat": 4,
  "nbformat_minor": 5
}