{
  "cells": [
    {
      "cell_type": "markdown",
      "metadata": {},
      "source": [
        "---\n",
        "title: Aesthetic mappings\n",
        "jupyter: python3\n",
        "---\n",
        "\n",
        "\n",
        "The `aes()` function maps columns of data onto graphical attributes--such as colors, shapes, or x and y coordinates. (`aes()` is short for aesthetic). It can be specified at the plot level, as well as at the individual geom level.\n",
        "\n",
        "This page will cover the basics of specifying mappings and how they interact with geoms.\n",
        "\n",
        "\n",
        ":::{.callout-tip title=\"You will learn\"}\n",
        "* How to map data to aesthetic attributes with `aes()`.\n",
        "* How to set a literal mapping, like coloring all points red.\n",
        "* How the `aes(group=...)` argument works.\n",
        ":::\n",
        "\n",
        ":::{.callout-note title=\"Key points\" collapse=\"true\"}\n",
        "\n",
        "* `aes()` maps variables (columns) to chart dimensions (e.g. x, y, or color).\n",
        "* Variable mappings in `aes()` can be simple names or expressions (e.g. `\"somecol / 10\"`).\n",
        "* Literal mappings can be passed directly to geoms (e.g. hard-code color to \"red\").\n",
        "* `aes()` can be used in the initial `ggplot()` call, or inside specific `geoms()`.\n",
        "* Mapping `aes(group=...)` can be used to make multiple trend lines per group.\n",
        ":::\n",
        "\n",
        "## Setup\n"
      ],
      "id": "0f351e9a"
    },
    {
      "cell_type": "code",
      "metadata": {},
      "source": [
        "from plotnine import *\n",
        "from palmerpenguins import load_penguins\n",
        "\n",
        "penguins = load_penguins()"
      ],
      "id": "38693dc8",
      "execution_count": null,
      "outputs": []
    },
    {
      "cell_type": "markdown",
      "metadata": {},
      "source": [
        "## Basics\n",
        "\n",
        "The simplest way to specify aesthetic mappings is through passing `aes()` to the `ggplot(mapping = ...)` argument. This is shown below, with `flipper_length_mm` and `body_mass_g` mapped to the x- and y- axes.\n"
      ],
      "id": "4810e487"
    },
    {
      "cell_type": "code",
      "metadata": {},
      "source": [
        "(\n",
        "    ggplot(\n",
        "      data = penguins,\n",
        "      mapping = aes(x = \"flipper_length_mm\", y = \"body_mass_g\")\n",
        "    )\n",
        "    + geom_point()\n",
        ")"
      ],
      "id": "9c3eb31c",
      "execution_count": null,
      "outputs": []
    },
    {
      "cell_type": "markdown",
      "metadata": {},
      "source": [
        "## Variable mappings\n",
        "\n",
        "When a mapping in `aes()` references a column of data, it is called a variable mapping---since the values of the column are used to determine the appearance of the plot. Below are some plots with variable mappings to different columns of data (e.g `flipper_length_mm`, `body_mass_g`, `species`).\n",
        "\n",
        "::: {.panel-tabset}\n",
        "\n",
        "### Color\n"
      ],
      "id": "528ee04a"
    },
    {
      "cell_type": "code",
      "metadata": {},
      "source": [
        "(\n",
        "    ggplot(\n",
        "        penguins,\n",
        "        aes(x = \"flipper_length_mm\", y = \"body_mass_g\", color = \"species\")\n",
        "    ) +\n",
        "    geom_point()\n",
        ")"
      ],
      "id": "df3063b2",
      "execution_count": null,
      "outputs": []
    },
    {
      "cell_type": "markdown",
      "metadata": {},
      "source": [
        "### Shape\n"
      ],
      "id": "b2ded02c"
    },
    {
      "cell_type": "code",
      "metadata": {},
      "source": [
        "(\n",
        "    ggplot(\n",
        "        penguins,\n",
        "        aes(\n",
        "            x=\"flipper_length_mm\", y=\"body_mass_g\", shape=\"species\"\n",
        "        ),\n",
        "    )\n",
        "    + geom_point()\n",
        ")"
      ],
      "id": "3d39ef4b",
      "execution_count": null,
      "outputs": []
    },
    {
      "cell_type": "markdown",
      "metadata": {},
      "source": [
        "### Size and alpha\n"
      ],
      "id": "8cd82a87"
    },
    {
      "cell_type": "code",
      "metadata": {},
      "source": [
        "(\n",
        "    ggplot(\n",
        "        penguins,\n",
        "        aes(\n",
        "            x=\"flipper_length_mm\",\n",
        "            y=\"body_mass_g\",\n",
        "            size=\"body_mass_g\",\n",
        "            alpha=\"body_mass_g\",\n",
        "        ),\n",
        "    )\n",
        "    + geom_point()\n",
        ")"
      ],
      "id": "27564e26",
      "execution_count": null,
      "outputs": []
    },
    {
      "cell_type": "markdown",
      "metadata": {},
      "source": [
        ":::\n",
        "\n",
        "## Literal mappings\n",
        "\n",
        "In order to set a mapping to a literal value, pass the value directly to the geom. For example, the code below sets `size=`, `alpha=`, and `color=` to specific values.\n"
      ],
      "id": "49cc541d"
    },
    {
      "cell_type": "code",
      "metadata": {},
      "source": [
        "(\n",
        "    ggplot(\n",
        "        penguins,\n",
        "        aes(x=\"flipper_length_mm\", y=\"body_mass_g\"),\n",
        "    )\n",
        "    + geom_point(size=7, alpha=.5, color=\"purple\")\n",
        ")"
      ],
      "id": "9c804e9d",
      "execution_count": null,
      "outputs": []
    },
    {
      "cell_type": "markdown",
      "metadata": {},
      "source": [
        "## `aes()` inside a specific geom\n",
        "\n",
        "An `aes()` mapping can be applied to a single geom, by passing it directly to the geom call. For example, the code below sets color for one point, and shape for another.\n"
      ],
      "id": "04a81667"
    },
    {
      "cell_type": "code",
      "metadata": {},
      "source": [
        "(\n",
        "    ggplot(\n",
        "        penguins,\n",
        "        aes(x=\"flipper_length_mm\", y=\"body_mass_g\"),\n",
        "    )\n",
        "    + geom_point(aes(color=\"species\"), size=5)   # big circle points\n",
        "    + geom_point(aes(shape=\"species\"))           # shape points\n",
        ")"
      ],
      "id": "94a32e35",
      "execution_count": null,
      "outputs": []
    },
    {
      "cell_type": "markdown",
      "metadata": {},
      "source": [
        "## `aes()` collective groupings\n",
        "\n",
        "Some geoms accept a `aes(group=...)`. These are called [collective geoms](./geometric-objects.qmd#kinds-of-geoms), because they group data points together. For example, `geom_smooth()` fits a trend line to the data, and the group mapping tells it to create a separate line per grouping in the data.\n",
        "\n",
        "This is shown below, with a trend line created for each of the three `species` of penguins.\n"
      ],
      "id": "142f975e"
    },
    {
      "cell_type": "code",
      "metadata": {},
      "source": [
        "(\n",
        "    ggplot(\n",
        "        penguins,\n",
        "        aes(x=\"flipper_length_mm\", y=\"body_mass_g\", group=\"species\"),\n",
        "    )\n",
        "    + geom_point()\n",
        "    + geom_smooth(method=\"lm\")\n",
        ")"
      ],
      "id": "4c61d98e",
      "execution_count": null,
      "outputs": []
    },
    {
      "cell_type": "markdown",
      "metadata": {},
      "source": [
        "### Automatic groupings\n",
        "\n",
        "Mappings attributes like `color` will automatically group data points for collective geoms, even if `group` isn't specified.\n"
      ],
      "id": "0316599b"
    },
    {
      "cell_type": "code",
      "metadata": {},
      "source": [
        "(\n",
        "    ggplot(\n",
        "        penguins,\n",
        "        aes(x=\"flipper_length_mm\", y=\"body_mass_g\", color=\"species\"),\n",
        "    )\n",
        "    + geom_point()\n",
        "    + geom_smooth(method=\"lm\")\n",
        ")"
      ],
      "id": "fc3be56b",
      "execution_count": null,
      "outputs": []
    },
    {
      "cell_type": "markdown",
      "metadata": {},
      "source": [
        "### Working around grouping\n",
        "\n",
        "To avoid automatically splitting data into groups, try setting aesthetics like `color` or `fill` at the individual geom level.\n",
        "\n",
        "For example, the plot below colors points by `species`, but with only a single trend line.\n"
      ],
      "id": "287dda33"
    },
    {
      "cell_type": "code",
      "metadata": {},
      "source": [
        "(\n",
        "    ggplot(\n",
        "        penguins,\n",
        "        aes(x=\"flipper_length_mm\", y=\"body_mass_g\"),\n",
        "    )\n",
        "    + geom_point(aes(color=\"species\"))\n",
        "    + geom_smooth(method=\"lm\")\n",
        ")"
      ],
      "id": "25647721",
      "execution_count": null,
      "outputs": []
    },
    {
      "cell_type": "markdown",
      "metadata": {},
      "source": [
        "## Mappings allow expressions\n",
        "\n",
        "Mappings passed to `aes()` can be expression strings.\n",
        "\n",
        "For example, you could make a scatterplot with `bill_length_mm / bill_depth_mm` on the x-axis as follows.\n"
      ],
      "id": "0f111c5d"
    },
    {
      "cell_type": "code",
      "metadata": {},
      "source": [
        "(\n",
        "    ggplot(\n",
        "        penguins,\n",
        "        aes(x=\"bill_length_mm / bill_depth_mm\", y=\"body_mass_g\"),\n",
        "    )\n",
        "    + geom_point(aes(color=\"species\"))\n",
        ")"
      ],
      "id": "8dab9fa9",
      "execution_count": null,
      "outputs": []
    }
  ],
  "metadata": {
    "kernelspec": {
      "display_name": "Python 3",
      "language": "python",
      "name": "python3"
    }
  },
  "nbformat": 4,
  "nbformat_minor": 5
}