{
  "cells": [
    {
      "cell_type": "markdown",
      "metadata": {},
      "source": [
        "---\n",
        "title: Coordinate systems\n",
        "jupyter: python3\n",
        "---\n",
        "\n",
        "\n",
        "Coordinate systems determine how the x- and y-axes of a plot are drawn.\n",
        "For example, `coord_flip()` switches the x- and y-axes, while `coord_fixed()` ensures they have the same spacing.\n",
        "\n",
        ":::{.callout-tip title=\"you will learn\"}\n",
        "* What coordinate systems are common for plots.\n",
        "* How to flip and fix axes.\n",
        "* The difference between scale and coordinate systems limits.\n",
        ":::\n",
        "\n",
        ":::{.callout-note title=\"Key points\" collapse=\"true\"}\n",
        "* Common coordinate systems include cartesian and polar.\n",
        "* Use `coord_flip()` to switch the x- and y-axes.\n",
        "* Use `coord_fixed()` to ensure the x- and y-axes have the same spacing.\n",
        "* Limits at the coordinate level zoom in or out, while limits at the scale level remove data.\n",
        "* Maps currently use `geom_map()`, but will later have a `coord_map()`.\n",
        ":::\n",
        "\n",
        "## Setup\n"
      ],
      "id": "bedb21ad"
    },
    {
      "cell_type": "code",
      "metadata": {},
      "source": [
        "from plotnine import *\n",
        "from plotnine.data import diamonds, mpg"
      ],
      "id": "dd660482",
      "execution_count": null,
      "outputs": []
    },
    {
      "cell_type": "markdown",
      "metadata": {},
      "source": [
        "## coord_flip()\n",
        "\n",
        "Use `coord_flip()` to switch the x- and y-axes of your plot.\n"
      ],
      "id": "ec462f4d"
    },
    {
      "cell_type": "code",
      "metadata": {},
      "source": [
        "#| layout-nrow: 1\n",
        "\n",
        "p = ggplot(diamonds, aes(\"cut\")) + geom_bar()\n",
        "\n",
        "p\n",
        "p + coord_flip()"
      ],
      "id": "2606014f",
      "execution_count": null,
      "outputs": []
    },
    {
      "cell_type": "markdown",
      "metadata": {},
      "source": [
        "Notice that cut is the x-axis on the default plot (left), but the y-axis of the flipped one (right). This can be helpful for barplots with many individually labeled bars, since the labels won't overlap with eachother. It can also be useful for taking advantage of wider plots.\n",
        "\n",
        "Flipped plots use the original axis names for setting titles and scales, but the final plot axis names for theme options.\n"
      ],
      "id": "15abe7c7"
    },
    {
      "cell_type": "code",
      "metadata": {},
      "source": [
        "(\n",
        "    ggplot(diamonds, aes(\"cut\"))\n",
        "    + geom_bar()\n",
        "    + coord_flip()\n",
        "\n",
        "    # labs and scales are based on original, non-flipped plot\n",
        "    + labs(x = \"Diamond Cut\", y = \"Count\")\n",
        "    + scale_y_continuous(breaks = [0, 10_000, 20_000])\n",
        "\n",
        "    # theme options are based on the flipped plot\n",
        "    + theme(axis_line_x=element_line(color=\"purple\"))\n",
        ")"
      ],
      "id": "4f7bc7e4",
      "execution_count": null,
      "outputs": []
    },
    {
      "cell_type": "markdown",
      "metadata": {},
      "source": [
        "## coord_cartesian()\n",
        "\n",
        "Use `coord_cartesian()` to zoom in on a plot.\n"
      ],
      "id": "69b468e7"
    },
    {
      "cell_type": "code",
      "metadata": {},
      "source": [
        "#| layout-nrow: 1\n",
        "p = ggplot(diamonds, aes(\"cut\", \"price\")) + geom_boxplot()\n",
        "\n",
        "p\n",
        "p + coord_cartesian(ylim = [5000, None])"
      ],
      "id": "e4aab660",
      "execution_count": null,
      "outputs": []
    },
    {
      "cell_type": "markdown",
      "metadata": {},
      "source": [
        "Notice that the second plot is zoomed in, so the y-axis starts at the top of the boxplots.  Importantly, `coord_cartesian()` doesn't affect any statistical calculations.\n",
        "\n",
        "By contrast, setting limits in scales excludes any data outside those limits.\n"
      ],
      "id": "884a23a7"
    },
    {
      "cell_type": "code",
      "metadata": {},
      "source": [
        "p + scale_y_continuous(limits = [5000, None])"
      ],
      "id": "70a56907",
      "execution_count": null,
      "outputs": []
    },
    {
      "cell_type": "markdown",
      "metadata": {},
      "source": [
        "Notice that in the plot above, `scale_y_continuous` excluded y-values under 5,000 from being used in calculating the boxplot.\n",
        "\n",
        "\n",
        "## coord_fixed()\n",
        "\n",
        "Use `coord_fixed()` to ensure the x- and y-axes have the same spacing.\n"
      ],
      "id": "579f850b"
    },
    {
      "cell_type": "code",
      "metadata": {},
      "source": [
        "(\n",
        "    ggplot(mpg, aes(\"cty\", \"hwy\"))\n",
        "    + coord_fixed(xlim=[0, None], ylim=[0,None])\n",
        "    + geom_point()\n",
        ")"
      ],
      "id": "8c9a7b45",
      "execution_count": null,
      "outputs": []
    },
    {
      "cell_type": "markdown",
      "metadata": {},
      "source": [
        "## Cartographic maps\n",
        "\n",
        "While currently not available as a coordinate system, Plotnine supports maps using `geom_map()`. In the future, maps will have a `coord_map()` function.\n",
        "\n",
        "Here is an example which uses geopandas to plot grocery stores in Chicago.\n"
      ],
      "id": "13fcc685"
    },
    {
      "cell_type": "code",
      "metadata": {},
      "source": [
        "import geopandas as gp\n",
        "import geodatasets\n",
        "\n",
        "chicago = gp.read_file(geodatasets.get_path(\"geoda.chicago_commpop\"))\n",
        "groceries = gp.read_file(geodatasets.get_path(\"geoda.groceries\"))\n",
        "\n",
        "(\n",
        "    ggplot(chicago)\n",
        "    + geom_map(fill=None)\n",
        "    + theme_void()\n",
        "    + coord_fixed()\n",
        ")"
      ],
      "id": "942a4019",
      "execution_count": null,
      "outputs": []
    },
    {
      "cell_type": "markdown",
      "metadata": {},
      "source": [
        "Notice that `coord_fixed()` was used to avoid stretching the map along the x- or y-axis. In addition, `theme_void()` removed the x- and y- tick marks, and labels.\n",
        "\n",
        "You can plot multiple layers on the same map by using multiple `geom_map()` calls with different `data=` arguments.\n"
      ],
      "id": "a2fda6c1"
    },
    {
      "cell_type": "code",
      "metadata": {},
      "source": [
        "crs_groceries = groceries.to_crs(chicago.crs)\n",
        "\n",
        "(\n",
        "    ggplot()\n",
        "    + geom_map(data=chicago, fill=None)\n",
        "    + geom_map(data=crs_groceries, color=\"green\")\n",
        "    + theme_void()\n",
        "    + coord_fixed()\n",
        ")"
      ],
      "id": "a0bb8391",
      "execution_count": null,
      "outputs": []
    }
  ],
  "metadata": {
    "kernelspec": {
      "display_name": "Python 3",
      "language": "python",
      "name": "python3"
    }
  },
  "nbformat": 4,
  "nbformat_minor": 5
}