{
  "cells": [
    {
      "cell_type": "markdown",
      "metadata": {},
      "source": [
        "---\n",
        "title: Scales, legends, and guides\n",
        "jupyter: python3\n",
        "ipynb-shell-interactivity: all\n",
        "---\n",
        "\n",
        "\n",
        "Scales specify how aesthetic mappings are ultimately styled as colors, shapes, positions, sizes, and more. This includes choosing the colors used or scaling the size of points based on values of data.\n",
        "\n",
        "Scale functions follow the naming pattern `scale_{aesthetic}_{type}`, where aesthetic is the name of the mapping (e.g. `x`, `y`, `fill`, `shape`), and type is the type of scale (e.g. `continuous`, `discrete`, `color`, `shape`).\n",
        "\n",
        "Plotnine produces a legend automatically, which tells viewers how to map scale values back to the underlying data. These mappings back to data are called guides.\n",
        "\n",
        "TODO: a graphic with annotations around scales, legends, and guides\n",
        "\n",
        ":::{.callout-tip title=\"you will learn\"}\n",
        "* How to apply a custom color palette.\n",
        "* How to choose between discrete, continuous, and manual scales.\n",
        "* How to log transform x- and y-axes.\n",
        "* How to customize x- and y-axis, and legend names.\n",
        "* How to restrict the range of axes and color palettes.\n",
        "* How to customize guide boxes in legends.\n",
        ":::\n",
        "\n",
        ":::{.callout-note title=\"Key points\" collapse=\"true\"}\n",
        "TODO\n",
        ":::\n",
        "\n",
        "## Setup\n"
      ],
      "id": "49a04989"
    },
    {
      "cell_type": "code",
      "metadata": {},
      "source": [
        "from plotnine import *\n",
        "from plotnine.data import mpg"
      ],
      "id": "3fe2818f",
      "execution_count": null,
      "outputs": []
    },
    {
      "cell_type": "markdown",
      "metadata": {},
      "source": [
        "## Scale basics\n",
        "\n",
        "In order to illustrate scales, we'll show two very different uses: manually mapping values of data to colors, and selecting a color palette.\n",
        "\n",
        "For manually mapping values to colors, we can use a manual type scale. For example, the code below uses `scale_color_manual()` to map two values in the `class` column to classes to red and blue.\n"
      ],
      "id": "cdc6c898"
    },
    {
      "cell_type": "code",
      "metadata": {},
      "source": [
        "# | warning: false\n",
        "(\n",
        "    ggplot(mpg, aes(\"displ\", \"hwy\", color=\"class\"))\n",
        "    + geom_point()\n",
        "    + scale_color_manual(\n",
        "        name=\"Car class\",\n",
        "        breaks=[\"2seater\", \"compact\"],\n",
        "        values=[\"red\", \"blue\"],\n",
        "    )\n",
        ")"
      ],
      "id": "cc77f0cd",
      "execution_count": null,
      "outputs": []
    },
    {
      "cell_type": "markdown",
      "metadata": {},
      "source": [
        "Notice that \"2seater\" is red, \"compact\" is blue, and all other points are grey. The box on the right side of the plot with \"Car class\" in it is the legend. The piece inside it showing the colors with \"2seater\" and \"compact\" labeled is called a guide.\n",
        "\n",
        "Generally, when using scales you'll often want to use a scale that can automatically map values to colors. For example, `scale_color_brewer()` automatically applies a [ColorBrewer](https://colorbrewer2.org/) palette.\n"
      ],
      "id": "85af134e"
    },
    {
      "cell_type": "code",
      "metadata": {},
      "source": [
        "(\n",
        "    ggplot(mpg, aes(\"displ\", \"hwy\", color=\"class\"))\n",
        "    + geom_point()\n",
        "    + scale_color_brewer(type=\"qual\", palette=2)\n",
        ")"
      ],
      "id": "c6ab997e",
      "execution_count": null,
      "outputs": []
    },
    {
      "cell_type": "markdown",
      "metadata": {},
      "source": [
        "Notice that there are 7 colors in the plot, one for each level of the `class` column.\n",
        "\n",
        "## Types of scales\n",
        "\n",
        "### Default scales\n",
        "\n",
        "Different scale types are applied by default, depending on the kind of data being mapped. For example, `scale_color_continuous()` is the default for numeric data, but `scale_color_discrete()` is the default for string data.\n",
        "\n",
        "The plots below illustrate this for the continuous `cyl` column, by plotting it as is on the left, and using the special `\"factor(cyl)\"` syntax to cast it to discrete on the right.\n"
      ],
      "id": "5f289863"
    },
    {
      "cell_type": "code",
      "metadata": {},
      "source": [
        "# | layout-nrow: 1\n",
        "p = ggplot(mpg, aes(\"displ\", \"hwy\")) + theme_grey(base_size=20)\n",
        "\n",
        "# defaults to scale_color_continuous\n",
        "p + geom_point(aes(color=\"cyl\"))\n",
        "\n",
        "# defaults to scale_color_discrete\n",
        "p + geom_point(aes(color=\"factor(cyl)\"))"
      ],
      "id": "2df86135",
      "execution_count": null,
      "outputs": []
    },
    {
      "cell_type": "markdown",
      "metadata": {},
      "source": [
        "### Position types\n",
        "\n",
        "The **position scales** for the x- and y-axis also have many extra transformations available. For example, reversing or log transforming.\n"
      ],
      "id": "30af22af"
    },
    {
      "cell_type": "code",
      "metadata": {},
      "source": [
        "(ggplot(mpg, aes(\"displ\", \"hwy\")) + geom_point() + scale_x_reverse() + scale_y_log10())"
      ],
      "id": "7c259190",
      "execution_count": null,
      "outputs": []
    },
    {
      "cell_type": "markdown",
      "metadata": {},
      "source": [
        "### Identity type\n",
        "\n",
        "Finally, the scale **identity type** uses the values of the data as styles directly. For example, the code below sets the color of points to the values in the `color` column.\n"
      ],
      "id": "b37c306d"
    },
    {
      "cell_type": "code",
      "metadata": {},
      "source": [
        "import pandas as pd\n",
        "\n",
        "df = pd.DataFrame(\n",
        "    {\n",
        "        \"x\": [1, 2, 3],\n",
        "        \"y\": [1, 2, 3],\n",
        "        \"color\": [\"red\", \"blue\", \"green\"],\n",
        "    }\n",
        ")\n",
        "\n",
        "(ggplot(df, aes(\"x\", \"y\", color=\"color\")) + geom_point(size=5))"
      ],
      "id": "f1d9880d",
      "execution_count": null,
      "outputs": []
    },
    {
      "cell_type": "markdown",
      "metadata": {},
      "source": [
        "## `name=` to set guide (legend) labels\n",
        "\n",
        "Use the `name=` argument to scale functions to set the label of that scale's guide.\n"
      ],
      "id": "6f4c771e"
    },
    {
      "cell_type": "code",
      "metadata": {},
      "source": [
        "(\n",
        "    ggplot(mpg, aes(\"displ\", \"hwy\", color=\"class\"))\n",
        "    + geom_point()\n",
        "    + scale_x_continuous(name=\"Engine displacement (litres)\")\n",
        "    + scale_y_continuous(name=\"Highway miles per gallon\")\n",
        "    + scale_color_discrete(name=\"Car class\")\n",
        ")"
      ],
      "id": "418fca02",
      "execution_count": null,
      "outputs": []
    },
    {
      "cell_type": "markdown",
      "metadata": {},
      "source": [
        "Notice that the x-axis, y-axis, and color guides all have names set. While the guide color is in the legend on the right, the x- and y-axis guides are on the bottom and left of the plot.\n",
        "\n",
        "The `labs()` function is a convenient way to set names for guides in one place, along with other pieces like a title.\n"
      ],
      "id": "44f34f96"
    },
    {
      "cell_type": "code",
      "metadata": {},
      "source": [
        "(\n",
        "    ggplot(mpg, aes(\"displ\", \"hwy\", color=\"class\"))\n",
        "    + geom_point()\n",
        "    + labs(\n",
        "        title = \"Use labs() to quickly set labels\",\n",
        "        x = \"Engine displacement (litres)\",\n",
        "        y = \"Highway miles per gallon\",\n",
        "        color = \"Car class\"\n",
        "    )\n",
        ")"
      ],
      "id": "0773ece0",
      "execution_count": null,
      "outputs": []
    },
    {
      "cell_type": "markdown",
      "metadata": {},
      "source": [
        "## `values=` for manual styles\n",
        "\n",
        "Use the `values=` argument to manually specify stylings like colors, shapes, or sizes of the scale. For example, the plot below manually sets point shapes (see the [aesthetic specification](./aesthetic-specification.qmd#point) for shape value options).\n"
      ],
      "id": "4f517e42"
    },
    {
      "cell_type": "code",
      "metadata": {},
      "source": [
        "keep_classes = [\"2seater\", \"compact\", \"midsize\"]\n",
        "\n",
        "(\n",
        "    mpg[mpg[\"class\"].isin(keep_classes)]\n",
        "    >> ggplot(aes(\"displ\", \"hwy\", shape=\"factor(cyl)\"))\n",
        "    + geom_point()\n",
        "    + scale_shape_manual(values=[\".\", \"o\", \"v\", \">\"])\n",
        ")"
      ],
      "id": "11fa8c25",
      "execution_count": null,
      "outputs": []
    },
    {
      "cell_type": "markdown",
      "metadata": {},
      "source": [
        "## `breaks=` for axis ticks, color bins\n"
      ],
      "id": "c29cdd83"
    },
    {
      "cell_type": "code",
      "metadata": {},
      "source": [
        "p = ggplot(mpg, aes(\"displ\", \"hwy\", color=\"class\")) + geom_point()\n",
        "\n",
        "p + scale_x_continuous(breaks = [4, 4.5, 5, 5.5])"
      ],
      "id": "d84d6bc5",
      "execution_count": null,
      "outputs": []
    },
    {
      "cell_type": "code",
      "metadata": {},
      "source": [
        "# | layout-nrow: 1\n",
        "# | eval: false\n",
        "# | include: false\n",
        "\n",
        "# TODO: I'm actually not sure the intended difference between breaks and limits here. Behavior seems inconsistent depending on scale type.\n",
        "p = ggplot(mpg, aes(\"displ\", \"hwy\", color=\"class\")) + geom_point(size=4)\n",
        "\n",
        "p + scale_color_discrete(breaks=[\"2seater\", \"compact\"]) + labs(title=\"Setting breaks\")\n",
        "p + scale_color_discrete(limits=[\"2seater\", \"compact\"]) + labs(title=\"Setting limits\")"
      ],
      "id": "9603e0b0",
      "execution_count": null,
      "outputs": []
    },
    {
      "cell_type": "markdown",
      "metadata": {},
      "source": [
        "## `limits=` for restricting data range\n"
      ],
      "id": "144c7617"
    },
    {
      "cell_type": "code",
      "metadata": {},
      "source": [
        "# | layout-nrow: 1\n",
        "from plotnine.data import huron\n",
        "\n",
        "\n",
        "p = ggplot(huron, aes(\"year\", \"level\")) + geom_line() + theme_grey(base_size=26)\n",
        "\n",
        "p + labs(title=\"default\")\n",
        "p + scale_x_continuous(limits=[1950, 1960]) + labs(title=\"zoom in\")\n",
        "p + scale_x_continuous(limits=[1800, 2000]) + labs(title=\"zoom out\")"
      ],
      "id": "dcdcb34b",
      "execution_count": null,
      "outputs": []
    },
    {
      "cell_type": "code",
      "metadata": {},
      "source": [
        "#| layout-nrow: 1\n",
        "p = ggplot(huron, aes(\"year\", \"level\", color=\"year\")) + geom_line() \n",
        "\n",
        "p\n",
        "p + scale_color_continuous(limits=[None, 1900])"
      ],
      "id": "d212c544",
      "execution_count": null,
      "outputs": []
    },
    {
      "cell_type": "markdown",
      "metadata": {},
      "source": [
        "## `labels=` for break labels\n",
        "\n",
        "Use the `labels=` argument to set custom labels for breaks. This argument supports either a function that operates on a list of breaks, or a list of labels.\n",
        "\n",
        "For example, the plot below sets the color labels to uppercase.\n"
      ],
      "id": "d3654ed5"
    },
    {
      "cell_type": "code",
      "metadata": {},
      "source": [
        "p = ggplot(mpg, aes(\"displ\", \"hwy\", color=\"class\")) + geom_point()\n",
        "\n",
        "p + scale_color_discrete(labels=lambda breaks: [s.upper() for s in breaks])"
      ],
      "id": "9673f924",
      "execution_count": null,
      "outputs": []
    },
    {
      "cell_type": "markdown",
      "metadata": {},
      "source": [
        "The plot below manually sets the x-axis breaks and labels.\n"
      ],
      "id": "28ece93b"
    },
    {
      "cell_type": "code",
      "metadata": {},
      "source": [
        "p + scale_x_continuous(breaks = [2, 4, 6], labels = [\"TWO\", \"FOUR\", \"SIX\"])"
      ],
      "id": "61acbf52",
      "execution_count": null,
      "outputs": []
    },
    {
      "cell_type": "markdown",
      "metadata": {},
      "source": [
        "## Legend merging\n",
        "\n",
        "Sometimes aesthetics mapped to the same variable have their guides merged. For example, color and shape might be shown on the same guide. To split a merged guide, give the scales their own names.\n"
      ],
      "id": "364c2978"
    },
    {
      "cell_type": "code",
      "metadata": {},
      "source": [
        "# | layout-nrow: 1\n",
        "p = (\n",
        "    ggplot(mpg, aes(\"displ\", \"hwy\", color=\"factor(cyl)\", shape=\"factor(cyl)\"))\n",
        "    + geom_point()\n",
        "    + theme_grey(base_size=20)\n",
        ")\n",
        "\n",
        "p\n",
        "p + scale_shape_discrete(name=\"Shape\")"
      ],
      "id": "ce83d3d9",
      "execution_count": null,
      "outputs": []
    },
    {
      "cell_type": "markdown",
      "metadata": {},
      "source": [
        "## Legend position\n",
        "\n",
        "Use `theme(legend_position=...)` argument to set the position of the legend in a plot. The options are `\"none\"`, `\"left\"`, `\"right\"`, `\"top\"`, and `\"bottom\"`.\n"
      ],
      "id": "e8e112b5"
    },
    {
      "cell_type": "code",
      "metadata": {},
      "source": [
        "# | layout-nrow: 1\n",
        "p = (\n",
        "    ggplot(mpg, aes(\"displ\", \"hwy\", color=\"factor(cyl)\", shape=\"factor(cyl)\"))\n",
        "    + geom_point()\n",
        ")\n",
        "\n",
        "p + theme(legend_position=\"top\")\n",
        "p + theme(legend_position=\"none\")"
      ],
      "id": "c22d8d8b",
      "execution_count": null,
      "outputs": []
    },
    {
      "cell_type": "markdown",
      "metadata": {},
      "source": [
        "## Guide customization\n",
        "\n",
        "Customize guides by passing arguments like `guide_colorbar()` or `guide_legend()` to the `guides()` function.\n",
        "\n",
        "The example below uses `guide_colorbar()` to reverse the colorbar (in the legend on the right; note the styles are the same, but the way the guide colorbar is shown is reversed).\n"
      ],
      "id": "efe8e328"
    },
    {
      "cell_type": "code",
      "metadata": {},
      "source": [
        "# | layout-nrow: 1\n",
        "p = (\n",
        "    ggplot(mpg, aes(\"displ\", \"hwy\", color=\"cyl\"))\n",
        "    + geom_point()\n",
        "    + theme(legend_key_size=30)\n",
        ")\n",
        "p\n",
        "p + guides(color=guide_colorbar(reverse=True))"
      ],
      "id": "64ec209d",
      "execution_count": null,
      "outputs": []
    },
    {
      "cell_type": "markdown",
      "metadata": {},
      "source": [
        "Here's a funky example that merges guides for color, size, and shape by giving them all the same title in the legend.\n"
      ],
      "id": "4b9a557d"
    },
    {
      "cell_type": "code",
      "metadata": {},
      "source": [
        "# | warning: false\n",
        "import pandas as pd\n",
        "from plotnine import *\n",
        "\n",
        "ser = list(map(str, range(5)))\n",
        "df = pd.DataFrame({\"x\": ser, \"y\": ser, \"p\": ser, \"q\": ser, \"r\": ser})\n",
        "\n",
        "(\n",
        "    ggplot(df, aes(\"x\", \"y\", color=\"p\", size=\"q\", shape=\"r\"))\n",
        "    + geom_point()\n",
        "    + guides(\n",
        "        colour=guide_legend(\"title\"),\n",
        "        size=guide_legend(\"title\"),\n",
        "        shape=guide_legend(\"title\"),\n",
        "    )\n",
        ")"
      ],
      "id": "ce90acd7",
      "execution_count": null,
      "outputs": []
    }
  ],
  "metadata": {
    "kernelspec": {
      "display_name": "Python 3",
      "language": "python",
      "name": "python3"
    }
  },
  "nbformat": 4,
  "nbformat_minor": 5
}