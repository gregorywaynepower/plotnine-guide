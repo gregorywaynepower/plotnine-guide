{
  "cells": [
    {
      "cell_type": "markdown",
      "metadata": {},
      "source": [
        "---\n",
        "title: Scale x and y\n",
        "jupyter: python3\n",
        "---\n",
        "\n",
        "\n",
        "* continuous\n",
        "* discrete\n",
        "* date, datetime, timedelta\n",
        "* log10, sqrt, symlog\n",
        "* reverse\n",
        "\n",
        "Common formatting:\n",
        "\n",
        "* percentages\n",
        "* dates\n"
      ],
      "id": "ac0576bb"
    },
    {
      "cell_type": "code",
      "metadata": {},
      "source": [
        "from plotnine import *\n",
        "from plotnine.data import economics\n",
        "\n",
        "p = ggplot(economics, aes(\"date\", \"psavert\")) + geom_line()"
      ],
      "id": "3a6062f1",
      "execution_count": null,
      "outputs": []
    },
    {
      "cell_type": "markdown",
      "metadata": {},
      "source": [
        "## Full example\n"
      ],
      "id": "938c293d"
    },
    {
      "cell_type": "code",
      "metadata": {},
      "source": [
        "from mizani.labels import percent_format\n",
        "\n",
        "(\n",
        "    ggplot(economics, aes(\"date\", \"psavert\"))\n",
        "    + geom_line()\n",
        "    + labs(title=\"\")\n",
        "    + scale_y_continuous(\n",
        "        name=\"Personal savings rate\",\n",
        "        limits=[0, None],\n",
        "        labels=percent_format(scale=1),\n",
        "    )\n",
        "    + scale_x_date(\n",
        "        name=\"Date\",\n",
        "        date_breaks=\"10 years\",\n",
        "        date_minor_breaks=\"5 year\",\n",
        "    )\n",
        ")"
      ],
      "id": "4ce85e2a",
      "execution_count": null,
      "outputs": []
    },
    {
      "cell_type": "markdown",
      "metadata": {},
      "source": [
        "## Expanding limits to include zero\n"
      ],
      "id": "39d2c392"
    },
    {
      "cell_type": "code",
      "metadata": {},
      "source": [
        "p + scale_y_continuous(limits=[0, None])"
      ],
      "id": "7b319f2c",
      "execution_count": null,
      "outputs": []
    },
    {
      "cell_type": "markdown",
      "metadata": {},
      "source": [
        "## Labelling percentages\n"
      ],
      "id": "1e0b966f"
    },
    {
      "cell_type": "code",
      "metadata": {},
      "source": [
        "(\n",
        "    ggplot(economics, aes(\"date\", \"psavert\"))\n",
        "    + geom_line()\n",
        "    + scale_y_continuous(labels=lambda arr: [f\"{x}%\" for x in arr])\n",
        ")"
      ],
      "id": "81f9f4bf",
      "execution_count": null,
      "outputs": []
    },
    {
      "cell_type": "code",
      "metadata": {},
      "source": [
        "from mizani.labels import percent_format\n",
        "\n",
        "(\n",
        "    ggplot(economics, aes(\"date\", \"psavert\"))\n",
        "    + geom_line()\n",
        "    + scale_y_continuous(labels=percent_format(scale=1))\n",
        ")"
      ],
      "id": "2038ed73",
      "execution_count": null,
      "outputs": []
    },
    {
      "cell_type": "markdown",
      "metadata": {},
      "source": [
        "## Specifying date breaks\n"
      ],
      "id": "ebc9e8fe"
    },
    {
      "cell_type": "code",
      "metadata": {},
      "source": [
        "(\n",
        "    ggplot(economics, aes(\"date\", \"psavert\"))\n",
        "    + geom_line()\n",
        "    + scale_x_date(date_breaks=\"10 years\", date_minor_breaks=\"5 year\")\n",
        ")"
      ],
      "id": "aee634dc",
      "execution_count": null,
      "outputs": []
    },
    {
      "cell_type": "markdown",
      "metadata": {},
      "source": [
        "## Applying log scale\n"
      ],
      "id": "0cdbcb65"
    },
    {
      "cell_type": "code",
      "metadata": {},
      "source": [
        "# | layout-nrow: 1\n",
        "p = ggplot(economics, aes(\"date\", \"pce\")) + geom_line()\n",
        "\n",
        "p\n",
        "p + scale_y_log10()"
      ],
      "id": "1e6609d1",
      "execution_count": null,
      "outputs": []
    }
  ],
  "metadata": {
    "kernelspec": {
      "display_name": "Python 3",
      "language": "python",
      "name": "python3"
    }
  },
  "nbformat": 4,
  "nbformat_minor": 5
}