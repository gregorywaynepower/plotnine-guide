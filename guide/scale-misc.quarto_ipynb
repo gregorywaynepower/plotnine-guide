{
  "cells": [
    {
      "cell_type": "markdown",
      "metadata": {},
      "source": [
        "---\n",
        "title: Scale linetype, shapes, sizes\n",
        "jupyter: python3\n",
        "---\n",
        "\n",
        "\n",
        "* linetype and shape tend to be simple \n",
        "* size supports a range of scale types\n",
        "* refer to aesthetics specification\n",
        "\n",
        "## Linetype: specifying values\n"
      ],
      "id": "8acaf34a"
    },
    {
      "cell_type": "code",
      "metadata": {},
      "source": [
        "import pandas as pd\n",
        "\n",
        "from plotnine.data import penguins\n",
        "from plotnine import *\n",
        "\n",
        "df = pd.DataFrame(\n",
        "    {\n",
        "        \"group\": [\"A\"] * 2 + [\"B\"] * 2,\n",
        "        \"condition\": [\"treatment\", \"control\"] * 2,\n",
        "        \"measure\": [3, 1, 2, 1],\n",
        "    }\n",
        ")"
      ],
      "id": "ead46201",
      "execution_count": null,
      "outputs": []
    },
    {
      "cell_type": "code",
      "metadata": {},
      "source": [
        "# | layout-nrow: 1\n",
        "p = (\n",
        "    ggplot(df, aes(\"condition\", \"measure\", group=\"group\"))\n",
        "    + geom_line(aes(linetype=\"group\"), size=1)\n",
        "    + geom_point(aes(fill=\"group\", shape=\"group\"), size=4)\n",
        ")\n",
        "\n",
        "p\n",
        "p + scale_linetype_manual(breaks=[\"A\", \"B\"], values=[\"dotted\", \"dashdot\"])"
      ],
      "id": "a4e83837",
      "execution_count": null,
      "outputs": []
    },
    {
      "cell_type": "markdown",
      "metadata": {},
      "source": [
        "## Shape: specifying values\n"
      ],
      "id": "8fb62aa5"
    },
    {
      "cell_type": "code",
      "metadata": {},
      "source": [
        "# | layout-nrow: 1\n",
        "p = (\n",
        "    ggplot(df, aes(\"condition\", \"measure\", group=\"group\"))\n",
        "    + geom_line(aes(linetype=\"group\"), size=1)\n",
        "    + geom_point(aes(fill=\"group\", shape=\"group\"), size=4)\n",
        ")\n",
        "\n",
        "p\n",
        "p + scale_shape_manual(breaks=[\"A\", \"B\"], values=[\"s\", \"o\"])"
      ],
      "id": "fd32da10",
      "execution_count": null,
      "outputs": []
    },
    {
      "cell_type": "markdown",
      "metadata": {},
      "source": [
        "## Size: choosing a style\n"
      ],
      "id": "ed3ffada"
    },
    {
      "cell_type": "code",
      "metadata": {},
      "source": [
        "# | layout-nrow: 1\n",
        "p = ggplot(df, aes(\"condition\", \"measure\", group=\"group\", size=\"measure\")) + geom_point(\n",
        "    aes(size=\"measure\")\n",
        ")\n",
        "\n",
        "p + scale_size_radius()\n",
        "p + scale_size_area()"
      ],
      "id": "64f95fd7",
      "execution_count": null,
      "outputs": []
    }
  ],
  "metadata": {
    "kernelspec": {
      "display_name": "Python 3",
      "language": "python",
      "name": "python3"
    }
  },
  "nbformat": 4,
  "nbformat_minor": 5
}