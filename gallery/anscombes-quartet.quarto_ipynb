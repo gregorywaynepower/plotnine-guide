{
  "cells": [
    {
      "cell_type": "markdown",
      "metadata": {},
      "source": [
        "---\n",
        "title: Anscombe's Quartet\n",
        "---"
      ],
      "id": "4aac57a7"
    },
    {
      "cell_type": "code",
      "metadata": {},
      "source": [
        "# | echo: false\n",
        "\n",
        "import polars as pl\n",
        "from plotnine import *\n",
        "\n",
        "anscombe_datasets = [\n",
        "    {\"x\": [10.0, 8.0, 13.0, 9.0, 11.0, 14.0, 6.0, 4.0, 12.0, 7.0, 5.0],\n",
        "     \"y\": [8.04, 6.95, 7.58, 8.81, 8.33, 9.96, 7.24, 4.26, 10.84, 4.82, 5.68]},\n",
        "    {\"x\": [10.0, 8.0, 13.0, 9.0, 11.0, 14.0, 6.0, 4.0, 12.0, 7.0, 5.0],\n",
        "     \"y\": [9.14, 8.14, 8.74, 8.77, 9.26, 8.1, 6.13, 3.1, 9.13, 7.26, 4.74]},\n",
        "    {\"x\": [10.0, 8.0, 13.0, 9.0, 11.0, 14.0, 6.0, 4.0, 12.0, 7.0, 5.0],\n",
        "     \"y\": [7.46, 6.77, 12.74, 7.11, 7.81, 8.84, 6.08, 5.39, 8.15, 6.42, 5.73]},\n",
        "    {\"x\": [8.0, 8.0, 8.0, 8.0, 8.0, 8.0, 8.0, 19.0, 8.0, 8.0, 8.0],\n",
        "     \"y\": [6.58, 5.76, 7.71, 8.84, 8.47, 7.04, 5.25, 12.5, 5.56, 7.91, 6.89]}\n",
        "]\n",
        "\n",
        "anscombe_quartet = pl.concat([\n",
        "    pl.DataFrame(xy).select(pl.lit(d).alias(\"dataset\"), \"x\", \"y\")\n",
        "    for d, xy in zip([\"I\", \"II\", \"III\", \"IV\"], anscombe_datasets)\n",
        "])\n",
        "\n",
        "(\n",
        "    ggplot(anscombe_quartet, aes(\"x\", \"y\")) +\n",
        "    geom_point(color=\"sienna\", fill=\"orange\", size=3) +\n",
        "    geom_smooth(method=\"lm\", se=False, fullrange=True, color=\"steelblue\", size=1) +\n",
        "    facet_wrap(\"dataset\") +\n",
        "    scale_y_continuous(breaks=(4, 8, 12)) +\n",
        "    coord_fixed(xlim=(3, 22), ylim=(2, 14)) +\n",
        "    labs(title=\"Anscombe’s Quartet\") +\n",
        "    theme_tufte(base_family=\"Futura\") +\n",
        "    theme(\n",
        "        axis_line=element_line(color=\"#4d4d4d\"),\n",
        "        axis_ticks_major=element_line(color=\"#00000000\"),\n",
        "        axis_title=element_blank(),\n",
        "        plot_background=element_rect(fill=\"#ffffff\", color=\"#ffffff\"),\n",
        "        dpi=144,\n",
        "        panel_spacing=0.09,\n",
        "        strip_text=element_text(size=12),\n",
        "        title=element_text(size=16, margin={\"b\": 20})\n",
        "    )\n",
        ")"
      ],
      "id": "946d577e",
      "execution_count": null,
      "outputs": []
    },
    {
      "cell_type": "code",
      "metadata": {},
      "source": [
        "# | output: asis\n",
        "# | echo: false\n",
        "\n",
        "def print_pre(name, code):\n",
        "    print(f\"\\n```{name}\\n{code}\\n```\\n\\n\")\n",
        "\n",
        "\n",
        "print_pre(\"python\", _ih[-2])"
      ],
      "id": "462fc1f8",
      "execution_count": null,
      "outputs": []
    }
  ],
  "metadata": {
    "kernelspec": {
      "display_name": "Python 3",
      "language": "python",
      "name": "python3"
    }
  },
  "nbformat": 4,
  "nbformat_minor": 5
}